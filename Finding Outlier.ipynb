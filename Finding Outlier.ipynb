{
 "cells": [
  {
   "cell_type": "code",
   "execution_count": 1,
   "metadata": {},
   "outputs": [],
   "source": [
    "import pandas as pd\n",
    "import seaborn as sns\n",
    "from scipy import stats"
   ]
  },
  {
   "cell_type": "code",
   "execution_count": 2,
   "metadata": {},
   "outputs": [],
   "source": [
    "sales_data=pd.DataFrame({'Product_1 Orders':[1000,950,1100,975,1000,1050,1125],\n",
    "                         'Product_2 Orders':[1050,1000,1150,1025,1050,1100,3000],\n",
    "                        'Promotional Offer':['No Discount','No Discount','No Discount','No Discount',\n",
    "                                 'No Discount','No Discount','50% Discount on Product 2']},\n",
    "                       index=['Sun','Mon','Tue','Wed','Thu','Fri','Sat'])"
   ]
  },
  {
   "cell_type": "code",
   "execution_count": 3,
   "metadata": {},
   "outputs": [
    {
     "data": {
      "text/html": [
       "<div>\n",
       "<style scoped>\n",
       "    .dataframe tbody tr th:only-of-type {\n",
       "        vertical-align: middle;\n",
       "    }\n",
       "\n",
       "    .dataframe tbody tr th {\n",
       "        vertical-align: top;\n",
       "    }\n",
       "\n",
       "    .dataframe thead th {\n",
       "        text-align: right;\n",
       "    }\n",
       "</style>\n",
       "<table border=\"1\" class=\"dataframe\">\n",
       "  <thead>\n",
       "    <tr style=\"text-align: right;\">\n",
       "      <th></th>\n",
       "      <th>Product_1 Orders</th>\n",
       "      <th>Product_2 Orders</th>\n",
       "      <th>Promotional Offer</th>\n",
       "    </tr>\n",
       "  </thead>\n",
       "  <tbody>\n",
       "    <tr>\n",
       "      <th>Sun</th>\n",
       "      <td>1000</td>\n",
       "      <td>1050</td>\n",
       "      <td>No Discount</td>\n",
       "    </tr>\n",
       "    <tr>\n",
       "      <th>Mon</th>\n",
       "      <td>950</td>\n",
       "      <td>1000</td>\n",
       "      <td>No Discount</td>\n",
       "    </tr>\n",
       "    <tr>\n",
       "      <th>Tue</th>\n",
       "      <td>1100</td>\n",
       "      <td>1150</td>\n",
       "      <td>No Discount</td>\n",
       "    </tr>\n",
       "    <tr>\n",
       "      <th>Wed</th>\n",
       "      <td>975</td>\n",
       "      <td>1025</td>\n",
       "      <td>No Discount</td>\n",
       "    </tr>\n",
       "    <tr>\n",
       "      <th>Thu</th>\n",
       "      <td>1000</td>\n",
       "      <td>1050</td>\n",
       "      <td>No Discount</td>\n",
       "    </tr>\n",
       "    <tr>\n",
       "      <th>Fri</th>\n",
       "      <td>1050</td>\n",
       "      <td>1100</td>\n",
       "      <td>No Discount</td>\n",
       "    </tr>\n",
       "    <tr>\n",
       "      <th>Sat</th>\n",
       "      <td>1125</td>\n",
       "      <td>3000</td>\n",
       "      <td>50% Discount on Product 2</td>\n",
       "    </tr>\n",
       "  </tbody>\n",
       "</table>\n",
       "</div>"
      ],
      "text/plain": [
       "     Product_1 Orders  Product_2 Orders          Promotional Offer\n",
       "Sun              1000              1050                No Discount\n",
       "Mon               950              1000                No Discount\n",
       "Tue              1100              1150                No Discount\n",
       "Wed               975              1025                No Discount\n",
       "Thu              1000              1050                No Discount\n",
       "Fri              1050              1100                No Discount\n",
       "Sat              1125              3000  50% Discount on Product 2"
      ]
     },
     "execution_count": 3,
     "metadata": {},
     "output_type": "execute_result"
    }
   ],
   "source": [
    "sales_data"
   ]
  },
  {
   "cell_type": "code",
   "execution_count": 4,
   "metadata": {},
   "outputs": [
    {
     "data": {
      "text/plain": [
       "<AxesSubplot:>"
      ]
     },
     "execution_count": 4,
     "metadata": {},
     "output_type": "execute_result"
    },
    {
     "data": {
      "image/png": "[encoded data removed]",
      "text/plain": [
       "<Figure size 432x288 with 1 Axes>"
      ]
     },
     "metadata": {
      "needs_background": "light"
     },
     "output_type": "display_data"
    }
   ],
   "source": [
    "sales_data.plot()"
   ]
  },
  {
   "cell_type": "code",
   "execution_count": 5,
   "metadata": {},
   "outputs": [
    {
     "name": "stderr",
     "output_type": "stream",
     "text": [
      "C:\\Users\\gggg\\anaconda3\\lib\\site-packages\\seaborn\\_decorators.py:36: FutureWarning: Pass the following variable as a keyword arg: x. From version 0.12, the only valid positional argument will be `data`, and passing other arguments without an explicit keyword will result in an error or misinterpretation.\n",
      "  warnings.warn(\n"
     ]
    },
    {
     "data": {
      "text/plain": [
       "<AxesSubplot:xlabel='Product_1 Orders'>"
      ]
     },
     "execution_count": 5,
     "metadata": {},
     "output_type": "execute_result"
    },
    {
     "data": {
      "image/png": "[encoded data removed]",
      "text/plain": [
       "<Figure size 432x288 with 1 Axes>"
      ]
     },
     "metadata": {
      "needs_background": "light"
     },
     "output_type": "display_data"
    }
   ],
   "source": [
    "sns.boxplot(sales_data['Product_1 Orders'])"
   ]
  },
  {
   "cell_type": "code",
   "execution_count": 24,
   "metadata": {},
   "outputs": [
    {
     "name": "stderr",
     "output_type": "stream",
     "text": [
      "C:\\Users\\gggg\\anaconda3\\lib\\site-packages\\seaborn\\_decorators.py:36: FutureWarning: Pass the following variable as a keyword arg: x. From version 0.12, the only valid positional argument will be `data`, and passing other arguments without an explicit keyword will result in an error or misinterpretation.\n",
      "  warnings.warn(\n"
     ]
    },
    {
     "data": {
      "text/plain": [
       "<AxesSubplot:xlabel='Product_2 Orders'>"
      ]
     },
     "execution_count": 24,
     "metadata": {},
     "output_type": "execute_result"
    },
    {
     "data": {
      "image/png": "[encoded data removed]",
      "text/plain": [
       "<Figure size 432x288 with 1 Axes>"
      ]
     },
     "metadata": {
      "needs_background": "light"
     },
     "output_type": "display_data"
    }
   ],
   "source": [
    "sns.boxplot(sales_data['Product_2 Orders'])"
   ]
  },
  {
   "cell_type": "code",
   "execution_count": 7,
   "metadata": {},
   "outputs": [
    {
     "data": {
      "text/plain": [
       "<seaborn.axisgrid.FacetGrid at 0x28c8d57ec10>"
      ]
     },
     "execution_count": 7,
     "metadata": {},
     "output_type": "execute_result"
    },
    {
     "data": {
      "image/png": "[encoded data removed]",
      "text/plain": [
       "<Figure size 360x360 with 1 Axes>"
      ]
     },
     "metadata": {
      "needs_background": "light"
     },
     "output_type": "display_data"
    },
    {
     "data": {
      "image/png": "[encoded data removed]",
      "text/plain": [
       "<Figure size 360x360 with 1 Axes>"
      ]
     },
     "metadata": {
      "needs_background": "light"
     },
     "output_type": "display_data"
    }
   ],
   "source": [
    "sns.displot(sales_data['Product_1 Orders'])\n",
    "sns.displot(sales_data['Product_2 Orders'])"
   ]
  },
  {
   "cell_type": "code",
   "execution_count": 8,
   "metadata": {},
   "outputs": [
    {
     "name": "stdout",
     "output_type": "stream",
     "text": [
      "Weekly Average or mean for Product 1 Orders is:  1029.0\n",
      "Weekly Average or mean for Product 2 Orders is:  1339.0\n"
     ]
    }
   ],
   "source": [
    "print('Weekly Average or mean for Product 1 Orders is: ',round(sales_data['Product_1 Orders'].mean(),0))\n",
    "print('Weekly Average or mean for Product 2 Orders is: ',round(sales_data['Product_2 Orders'].mean(),0))"
   ]
  },
  {
   "cell_type": "code",
   "execution_count": 9,
   "metadata": {},
   "outputs": [
    {
     "name": "stdout",
     "output_type": "stream",
     "text": [
      "Median for Product 1 Orders is:  1000 0\n",
      "Median for Product 1 Orders is:  1050 0\n"
     ]
    }
   ],
   "source": [
    "print('Median for Product 1 Orders is: ',round(sales_data['Product_1 Orders'].median()),0)\n",
    "print('Median for Product 1 Orders is: ',round(sales_data['Product_2 Orders'].median()),0)"
   ]
  },
  {
   "cell_type": "code",
   "execution_count": 10,
   "metadata": {},
   "outputs": [
    {
     "name": "stdout",
     "output_type": "stream",
     "text": [
      "Mode for Product 1 Orders is:  0    1000\n",
      "dtype: int64 0\n",
      "Mode for Product 1 Orders is:  0    1050\n",
      "dtype: int64 0\n"
     ]
    }
   ],
   "source": [
    "print('Mode for Product 1 Orders is: ',round(sales_data['Product_1 Orders'].mode()),0)\n",
    "print('Mode for Product 1 Orders is: ',round(sales_data['Product_2 Orders'].mode()),0)"
   ]
  },
  {
   "cell_type": "code",
   "execution_count": 11,
   "metadata": {},
   "outputs": [
    {
     "name": "stdout",
     "output_type": "stream",
     "text": [
      "Standard Dev for Product 1 Orders is:  65 0\n",
      "Standard Dev for Product 2 Orders is:  734 0\n"
     ]
    }
   ],
   "source": [
    "print('Standard Dev for Product 1 Orders is: ',round(sales_data['Product_1 Orders'].std()),0)\n",
    "print('Standard Dev for Product 2 Orders is: ',round(sales_data['Product_2 Orders'].std()),0)"
   ]
  },
  {
   "cell_type": "code",
   "execution_count": 12,
   "metadata": {},
   "outputs": [
    {
     "name": "stdout",
     "output_type": "stream",
     "text": [
      "[-0.47304992 -1.30088727  1.18262479 -0.88696859 -0.47304992  0.35478744\n",
      "  1.59654347]\n",
      "[-0.42571479 -0.49929512 -0.27855412 -0.46250496 -0.42571479 -0.35213445\n",
      "  2.44391823]\n"
     ]
    }
   ],
   "source": [
    "print(stats.zscore(sales_data['Product_1 Orders']))\n",
    "print(stats.zscore(sales_data['Product_2 Orders']))"
   ]
  },
  {
   "cell_type": "code",
   "execution_count": 13,
   "metadata": {},
   "outputs": [
    {
     "name": "stdout",
     "output_type": "stream",
     "text": [
      "zscore for 1050 is -0.3941388048720673: \n",
      "zscore for 1000 is -0.46226055205863914: \n",
      "zscore for 1150 is -0.2578953104989236: \n",
      "zscore for 1025 is -0.42819967846535323: \n",
      "zscore for 1050 is -0.3941388048720673: \n",
      "zscore for 1100 is -0.32601705768549544: \n",
      "zscore for 3000 is 2.2626093354042345: \n",
      "3000 is an outlier\n"
     ]
    }
   ],
   "source": [
    "mean=round(sales_data['Product_2 Orders'].mean(),2)\n",
    "std_dev=round(sales_data['Product_2 Orders'].std(),2)\n",
    "\n",
    "outliers=[]\n",
    "\n",
    "for items in sales_data['Product_2 Orders']:\n",
    "    z_score=(items-mean)/std_dev\n",
    "    print('zscore for {} is {}: '.format(items,z_score))\n",
    "    if z_score>2:\n",
    "        print('{} is an outlier'.format(items))\n",
    "        outliers.append(items)"
   ]
  },
  {
   "cell_type": "code",
   "execution_count": 14,
   "metadata": {},
   "outputs": [],
   "source": [
    "sales_data['z_score']=stats.zscore(sales_data['Product_2 Orders'])"
   ]
  },
  {
   "cell_type": "code",
   "execution_count": 15,
   "metadata": {},
   "outputs": [
    {
     "data": {
      "text/html": [
       "<div>\n",
       "<style scoped>\n",
       "    .dataframe tbody tr th:only-of-type {\n",
       "        vertical-align: middle;\n",
       "    }\n",
       "\n",
       "    .dataframe tbody tr th {\n",
       "        vertical-align: top;\n",
       "    }\n",
       "\n",
       "    .dataframe thead th {\n",
       "        text-align: right;\n",
       "    }\n",
       "</style>\n",
       "<table border=\"1\" class=\"dataframe\">\n",
       "  <thead>\n",
       "    <tr style=\"text-align: right;\">\n",
       "      <th></th>\n",
       "      <th>Product_1 Orders</th>\n",
       "      <th>Product_2 Orders</th>\n",
       "      <th>Promotional Offer</th>\n",
       "      <th>z_score</th>\n",
       "    </tr>\n",
       "  </thead>\n",
       "  <tbody>\n",
       "    <tr>\n",
       "      <th>Sun</th>\n",
       "      <td>1000</td>\n",
       "      <td>1050</td>\n",
       "      <td>No Discount</td>\n",
       "      <td>-0.425715</td>\n",
       "    </tr>\n",
       "    <tr>\n",
       "      <th>Mon</th>\n",
       "      <td>950</td>\n",
       "      <td>1000</td>\n",
       "      <td>No Discount</td>\n",
       "      <td>-0.499295</td>\n",
       "    </tr>\n",
       "    <tr>\n",
       "      <th>Tue</th>\n",
       "      <td>1100</td>\n",
       "      <td>1150</td>\n",
       "      <td>No Discount</td>\n",
       "      <td>-0.278554</td>\n",
       "    </tr>\n",
       "    <tr>\n",
       "      <th>Wed</th>\n",
       "      <td>975</td>\n",
       "      <td>1025</td>\n",
       "      <td>No Discount</td>\n",
       "      <td>-0.462505</td>\n",
       "    </tr>\n",
       "    <tr>\n",
       "      <th>Thu</th>\n",
       "      <td>1000</td>\n",
       "      <td>1050</td>\n",
       "      <td>No Discount</td>\n",
       "      <td>-0.425715</td>\n",
       "    </tr>\n",
       "    <tr>\n",
       "      <th>Fri</th>\n",
       "      <td>1050</td>\n",
       "      <td>1100</td>\n",
       "      <td>No Discount</td>\n",
       "      <td>-0.352134</td>\n",
       "    </tr>\n",
       "    <tr>\n",
       "      <th>Sat</th>\n",
       "      <td>1125</td>\n",
       "      <td>3000</td>\n",
       "      <td>50% Discount on Product 2</td>\n",
       "      <td>2.443918</td>\n",
       "    </tr>\n",
       "  </tbody>\n",
       "</table>\n",
       "</div>"
      ],
      "text/plain": [
       "     Product_1 Orders  Product_2 Orders          Promotional Offer   z_score\n",
       "Sun              1000              1050                No Discount -0.425715\n",
       "Mon               950              1000                No Discount -0.499295\n",
       "Tue              1100              1150                No Discount -0.278554\n",
       "Wed               975              1025                No Discount -0.462505\n",
       "Thu              1000              1050                No Discount -0.425715\n",
       "Fri              1050              1100                No Discount -0.352134\n",
       "Sat              1125              3000  50% Discount on Product 2  2.443918"
      ]
     },
     "execution_count": 15,
     "metadata": {},
     "output_type": "execute_result"
    }
   ],
   "source": [
    "sales_data"
   ]
  },
  {
   "cell_type": "code",
   "execution_count": null,
   "metadata": {},
   "outputs": [],
   "source": []
  },
  {
   "cell_type": "code",
   "execution_count": 16,
   "metadata": {},
   "outputs": [],
   "source": [
    "import numpy as np\n",
    "from scipy import stats"
   ]
  },
  {
   "cell_type": "code",
   "execution_count": 17,
   "metadata": {},
   "outputs": [],
   "source": [
    "data1 = [4,4.5,5,5,6,6.5,7,20] \n",
    "data2 = [4,4.5,5,5,6,6.5,7,7] "
   ]
  },
  {
   "cell_type": "code",
   "execution_count": 18,
   "metadata": {},
   "outputs": [
    {
     "data": {
      "text/plain": [
       "(7.25, 5.625)"
      ]
     },
     "execution_count": 18,
     "metadata": {},
     "output_type": "execute_result"
    }
   ],
   "source": [
    "np.mean(data1),np.mean(data2)"
   ]
  },
  {
   "cell_type": "code",
   "execution_count": 19,
   "metadata": {},
   "outputs": [
    {
     "data": {
      "text/plain": [
       "(5.5, 5.5)"
      ]
     },
     "execution_count": 19,
     "metadata": {},
     "output_type": "execute_result"
    }
   ],
   "source": [
    "np.median(data1),np.median(data2)"
   ]
  },
  {
   "cell_type": "code",
   "execution_count": 20,
   "metadata": {},
   "outputs": [
    {
     "name": "stdout",
     "output_type": "stream",
     "text": [
      "[5.] [5.]\n"
     ]
    }
   ],
   "source": [
    "print(stats.mode(data1)[0],stats.mode(data2)[0])"
   ]
  },
  {
   "cell_type": "code",
   "execution_count": 21,
   "metadata": {},
   "outputs": [
    {
     "data": {
      "text/plain": [
       "(24.125, 1.171875)"
      ]
     },
     "execution_count": 21,
     "metadata": {},
     "output_type": "execute_result"
    }
   ],
   "source": [
    "np.var(data1),np.var(data2)"
   ]
  },
  {
   "cell_type": "code",
   "execution_count": 22,
   "metadata": {},
   "outputs": [
    {
     "data": {
      "text/plain": [
       "(4.911720676097125, 1.0825317547305484)"
      ]
     },
     "execution_count": 22,
     "metadata": {},
     "output_type": "execute_result"
    }
   ],
   "source": [
    "np.std(data1),np.std(data2)"
   ]
  },
  {
   "cell_type": "code",
   "execution_count": 23,
   "metadata": {},
   "outputs": [
    {
     "data": {
      "text/plain": [
       "array([-0.49604737, -0.19841895, -0.19841895, -0.19841895,  0.09920947,\n",
       "       -0.49604737, -0.49604737,  3.67075053, -0.19841895, -0.19841895,\n",
       "       -0.19841895,  0.09920947, -0.49604737, -0.49604737, -0.19841895])"
      ]
     },
     "execution_count": 23,
     "metadata": {},
     "output_type": "execute_result"
    }
   ],
   "source": [
    "from scipy import stats\n",
    "data = [1, 2, 2, 2, 3, 1, 1, 15, 2, 2, 2, 3, 1, 1, 2] \n",
    "stats.zscore(data)"
   ]
  },
  {
   "cell_type": "code",
   "execution_count": null,
   "metadata": {},
   "outputs": [],
   "source": []
  }
 ],
 "metadata": {
  "kernelspec": {
   "display_name": "Python 3",
   "language": "python",
   "name": "python3"
  },
  "language_info": {
   "codemirror_mode": {
    "name": "ipython",
    "version": 3
   },
   "file_extension": ".py",
   "mimetype": "text/x-python",
   "name": "python",
   "nbconvert_exporter": "python",
   "pygments_lexer": "ipython3",
   "version": "3.8.5"
  }
 },
 "nbformat": 4,
 "nbformat_minor": 4
}
